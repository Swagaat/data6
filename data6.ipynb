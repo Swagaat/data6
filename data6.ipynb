{
  "nbformat": 4,
  "nbformat_minor": 0,
  "metadata": {
    "colab": {
      "provenance": [],
      "authorship_tag": "ABX9TyPJis3tWZn+ufGVMkFdhqzw",
      "include_colab_link": true
    },
    "kernelspec": {
      "name": "python3",
      "display_name": "Python 3"
    },
    "language_info": {
      "name": "python"
    }
  },
  "cells": [
    {
      "cell_type": "markdown",
      "metadata": {
        "id": "view-in-github",
        "colab_type": "text"
      },
      "source": [
        "<a href=\"https://colab.research.google.com/github/Swagaat/data6/blob/main/data6.ipynb\" target=\"_parent\"><img src=\"https://colab.research.google.com/assets/colab-badge.svg\" alt=\"Open In Colab\"/></a>"
      ]
    },
    {
      "cell_type": "code",
      "execution_count": 1,
      "metadata": {
        "colab": {
          "base_uri": "https://localhost:8080/"
        },
        "id": "oNq4bAYNWQQk",
        "outputId": "91fbcce1-59cc-4cc1-f3a0-2bfc2b0550b7"
      },
      "outputs": [
        {
          "output_type": "stream",
          "name": "stdout",
          "text": [
            "1\n",
            "10\n",
            "11\n",
            "100\n",
            "101\n",
            "110\n",
            "111\n"
          ]
        }
      ],
      "source": [
        "#solution-1:\n",
        "from queue import Queue\n",
        "\n",
        "def genBin(n):\n",
        "    # Initialize a queue with the first binary number, \"1\".\n",
        "    queue = Queue()\n",
        "    queue.put(\"1\")\n",
        "    \n",
        "    # Iterate over the remaining binary numbers from 2 to n.\n",
        "    for i in range(n):\n",
        "        # Dequeue the first binary number in the queue.\n",
        "        binary_number = queue.get()\n",
        "        \n",
        "        # Add the binary number with a \"0\" appended to the end to the queue.\n",
        "        queue.put(binary_number + \"0\")\n",
        "        \n",
        "        # Add the binary number with a \"1\" appended to the end to the queue.\n",
        "        queue.put(binary_number + \"1\")\n",
        "        \n",
        "        # Output the binary number.\n",
        "        print(binary_number)\n",
        "genBin(7)\n"
      ]
    },
    {
      "cell_type": "code",
      "source": [
        "from queue import Queue\n",
        "\n",
        "class Stack:\n",
        "    def __init__(self):\n",
        "        self.queue = Queue()\n",
        "        \n",
        "    def push(self, val):\n",
        "        # Get the current size of the queue.\n",
        "        size = self.queue.qsize()\n",
        "        \n",
        "        # Add the new value to the back of the queue.\n",
        "        self.queue.put(val)\n",
        "        \n",
        "        # Move the first (size) elements from the front of the queue\n",
        "        # to the back of the queue in reverse order.\n",
        "        for i in range(size):\n",
        "            self.queue.put(self.queue.get())\n",
        "            \n",
        "    def pop(self):\n",
        "        if self.queue.empty():\n",
        "            return None\n",
        "        \n",
        "        # Return the front element of the queue.\n",
        "        return self.queue.get()\n",
        "stack = Stack()\n",
        "stack.push(1)\n",
        "stack.push(2)\n",
        "stack.push(3)\n",
        "print(stack.pop())  \n",
        "print(stack.pop())  \n",
        "print(stack.pop())  \n",
        "print(stack.pop())  \n"
      ],
      "metadata": {
        "colab": {
          "base_uri": "https://localhost:8080/"
        },
        "id": "SSBn0ce1Wc2p",
        "outputId": "a44620f5-a7ed-4b97-a2e4-77cbdc56b7c7"
      },
      "execution_count": 3,
      "outputs": [
        {
          "output_type": "stream",
          "name": "stdout",
          "text": [
            "3\n",
            "2\n",
            "1\n",
            "None\n"
          ]
        }
      ]
    },
    {
      "cell_type": "code",
      "source": [
        "#solution-3:\n",
        "class PriorityQueue:\n",
        "    def __init__(self):\n",
        "        self.queue = []\n",
        "        \n",
        "    def push(self, char, priority):\n",
        "        # Find the index where the new element should be inserted\n",
        "        # based on its priority value.\n",
        "        index = 0\n",
        "        for i in range(len(self.queue)):\n",
        "            if self.queue[i][1] < priority:\n",
        "                index = i + 1\n",
        "            else:\n",
        "                break\n",
        "        \n",
        "        # Insert the new element at the correct index.\n",
        "        self.queue.insert(index, (char, priority))\n",
        "        \n",
        "    def pop(self):\n",
        "        if not self.queue:\n",
        "            return None\n",
        "        \n",
        "        # Remove and return the element with the highest priority.\n",
        "        return self.queue.pop()[0]\n",
        "queue = PriorityQueue()\n",
        "queue.push('a', 97)\n",
        "queue.push('c', 99)\n",
        "queue.push('b', 98)\n",
        "print(queue.pop())  \n",
        "print(queue.pop())  \n",
        "print(queue.pop())  \n",
        "print(queue.pop()) \n"
      ],
      "metadata": {
        "colab": {
          "base_uri": "https://localhost:8080/"
        },
        "id": "S_6aHUBHWjf0",
        "outputId": "de9c7c68-73d1-4932-997f-af00daa71b28"
      },
      "execution_count": 4,
      "outputs": [
        {
          "output_type": "stream",
          "name": "stdout",
          "text": [
            "c\n",
            "b\n",
            "a\n",
            "None\n"
          ]
        }
      ]
    },
    {
      "cell_type": "code",
      "source": [
        "#solution-4:\n",
        "def getNumElem(size, front, rear):\n",
        "    if front == -1:\n",
        "        return 0\n",
        "    elif rear >= front:\n",
        "        return rear - front + 1\n",
        "    else:\n",
        "        return size - front + rear + 1\n",
        "size = 5\n",
        "front = 3\n",
        "rear = 2\n",
        "num_elem = getNumElem(size, front, rear)\n",
        "print(num_elem) \n"
      ],
      "metadata": {
        "colab": {
          "base_uri": "https://localhost:8080/"
        },
        "id": "0M2lWeHJXIVa",
        "outputId": "cb6aa9ac-8521-460e-9773-5cbc59e7ce96"
      },
      "execution_count": 10,
      "outputs": [
        {
          "output_type": "stream",
          "name": "stdout",
          "text": [
            "5\n"
          ]
        }
      ]
    }
  ]
}